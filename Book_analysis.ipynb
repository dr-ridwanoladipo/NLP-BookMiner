{
 "cells": [
  {
   "cell_type": "markdown",
   "id": "156692b0-86e8-4952-b8af-70d944684145",
   "metadata": {},
   "source": [
    "# Use of regular expressions to extract the following information\n"
   ]
  },
  {
   "cell_type": "markdown",
   "id": "829d1e2c-cb86-40ac-a095-351ae83024d7",
   "metadata": {},
   "source": [
    "#### Load the book"
   ]
  },
  {
   "cell_type": "code",
   "execution_count": 4,
   "id": "80c797ca-f884-406c-b945-9114b68627e9",
   "metadata": {},
   "outputs": [],
   "source": [
    "with open(\"miracle_in_the_andes.txt\", \"r\", encoding=\"utf-8\") as file:\n",
    "    book = file.read()"
   ]
  },
  {
   "cell_type": "code",
   "execution_count": 5,
   "id": "75246eab-8511-44f3-b0aa-042c5b105e51",
   "metadata": {},
   "outputs": [
    {
     "data": {
      "text/plain": [
       "str"
      ]
     },
     "execution_count": 5,
     "metadata": {},
     "output_type": "execute_result"
    }
   ],
   "source": [
    "type(book)"
   ]
  },
  {
   "cell_type": "markdown",
   "id": "c0833b98-2589-4236-a1e6-af7c76552e15",
   "metadata": {},
   "source": [
    "## The number of chapters in the book\n",
    "#### With string methods"
   ]
  },
  {
   "cell_type": "code",
   "execution_count": 7,
   "id": "4a2b6fc9-4018-4f02-91ec-dafb9b1d8fef",
   "metadata": {},
   "outputs": [
    {
     "data": {
      "text/plain": [
       "11"
      ]
     },
     "execution_count": 7,
     "metadata": {},
     "output_type": "execute_result"
    }
   ],
   "source": [
    "book.count(\"Chapter\")"
   ]
  },
  {
   "cell_type": "markdown",
   "id": "1e9192ae-e103-40fb-acf1-a1d740ba52e9",
   "metadata": {},
   "source": [
    "#### With regex"
   ]
  },
  {
   "cell_type": "code",
   "execution_count": 9,
   "id": "07f44c54-35ef-44ed-aef8-f2f39f65945e",
   "metadata": {},
   "outputs": [],
   "source": [
    "import re"
   ]
  },
  {
   "cell_type": "code",
   "execution_count": 10,
   "id": "ce7e80d4-7b22-4fba-91c4-a1ebc616d388",
   "metadata": {},
   "outputs": [
    {
     "data": {
      "text/plain": [
       "10"
      ]
     },
     "execution_count": 10,
     "metadata": {},
     "output_type": "execute_result"
    }
   ],
   "source": [
    "pattern = re.compile(\"Chapter [0-9]+\")\n",
    "findings = re.findall(pattern, book)\n",
    "# findings\n",
    "len(findings)"
   ]
  },
  {
   "cell_type": "markdown",
   "id": "fb7490a5-195d-4a74-bf7c-5dcd82f531b6",
   "metadata": {},
   "source": [
    "## Sentences where \"love\" was used in the book"
   ]
  },
  {
   "cell_type": "code",
   "execution_count": 12,
   "id": "d67005c2-02a4-41e3-a7f3-aeeecd3752e2",
   "metadata": {},
   "outputs": [
    {
     "data": {
      "text/plain": [
       "67"
      ]
     },
     "execution_count": 12,
     "metadata": {},
     "output_type": "execute_result"
    }
   ],
   "source": [
    "pattern = re.compile(\"[A-Z][^.]*[^a-z]love[^a-z][^.]*.\")\n",
    "findings = re.findall(pattern, book)\n",
    "len(findings)\n",
    "# findings"
   ]
  },
  {
   "cell_type": "markdown",
   "id": "abfd6cfe-d899-44f9-885c-0fd8a2c862e4",
   "metadata": {},
   "source": [
    "## Paragraphs where \"love\" was used in the book"
   ]
  },
  {
   "cell_type": "code",
   "execution_count": 14,
   "id": "aac8bf6a-c45c-44a6-8724-c145407f3fe6",
   "metadata": {},
   "outputs": [
    {
     "data": {
      "text/plain": [
       "60"
      ]
     },
     "execution_count": 14,
     "metadata": {},
     "output_type": "execute_result"
    }
   ],
   "source": [
    "pattern = re.compile(\"[^\\n]+love[^\\n]+\")\n",
    "findings = re.findall(pattern, book)\n",
    "# findings\n",
    "len(findings)"
   ]
  },
  {
   "cell_type": "markdown",
   "id": "6b060d5b-e213-464a-bcfa-128db1597f35",
   "metadata": {},
   "source": [
    "## Chapter titles\n",
    "#### Method 1"
   ]
  },
  {
   "cell_type": "code",
   "execution_count": 16,
   "id": "c3ebc101-e978-414f-8020-cfe663571684",
   "metadata": {},
   "outputs": [
    {
     "data": {
      "text/plain": [
       "['Before',\n",
       " 'Everything Precious',\n",
       " 'A Promise',\n",
       " 'Breathe Once More',\n",
       " 'Abandoned',\n",
       " 'Tomb',\n",
       " 'East',\n",
       " 'The Opposite of Death',\n",
       " 'I See a Man',\n",
       " 'After']"
      ]
     },
     "execution_count": 16,
     "metadata": {},
     "output_type": "execute_result"
    }
   ],
   "source": [
    "pattern = re.compile(\"[a-zA-Z ,]+\\n\\n\")\n",
    "findings = re.findall(pattern, book)\n",
    "findings = [item.strip(\"\\n\\n\") for item in findings]\n",
    "findings"
   ]
  },
  {
   "cell_type": "markdown",
   "id": "57482c33-e1d9-4e86-9b1a-e7ce8b7b079d",
   "metadata": {},
   "source": [
    "#### Method 2"
   ]
  },
  {
   "cell_type": "code",
   "execution_count": 18,
   "id": "7a43ac86-da89-4a18-ac79-d178b4e3e854",
   "metadata": {},
   "outputs": [
    {
     "data": {
      "text/plain": [
       "['Before',\n",
       " 'Everything Precious',\n",
       " 'A Promise',\n",
       " 'Breathe Once More',\n",
       " 'Abandoned',\n",
       " 'Tomb',\n",
       " 'East',\n",
       " 'The Opposite of Death',\n",
       " 'I See a Man',\n",
       " 'After']"
      ]
     },
     "execution_count": 18,
     "metadata": {},
     "output_type": "execute_result"
    }
   ],
   "source": [
    "pattern = re.compile(\"([a-zA-Z ]+)\\n\\n\")\n",
    "findings = re.findall(pattern, book)\n",
    "findings"
   ]
  },
  {
   "cell_type": "markdown",
   "id": "c2c603ce-cf00-4ac4-b11f-07d70d553de7",
   "metadata": {},
   "source": [
    "## The most used word in the book"
   ]
  },
  {
   "cell_type": "code",
   "execution_count": 20,
   "id": "ab40a5e1-d255-4078-bb26-67521305a7f3",
   "metadata": {},
   "outputs": [
    {
     "data": {
      "text/plain": [
       "['chapter', 'before', 'it', 'was', 'friday']"
      ]
     },
     "execution_count": 20,
     "metadata": {},
     "output_type": "execute_result"
    }
   ],
   "source": [
    "pattern = re.compile(\"[a-zA-Z]+\")\n",
    "findings = re.findall(pattern, book.lower())\n",
    "# len(findings)\n",
    "findings[:5]"
   ]
  },
  {
   "cell_type": "code",
   "execution_count": 21,
   "id": "a99bad24-bda8-437b-a762-281d04dea59b",
   "metadata": {},
   "outputs": [],
   "source": [
    "d = {}\n",
    "for word in findings:\n",
    "    if word in d.keys():\n",
    "        d[word] = d[word] + 1\n",
    "    else:\n",
    "        d[word] = 1"
   ]
  },
  {
   "cell_type": "code",
   "execution_count": 22,
   "id": "ebb93477-154e-446a-8cdf-2464ac5f0961",
   "metadata": {},
   "outputs": [],
   "source": [
    "d_list = [(value, key) for (key, value) in d.items()]"
   ]
  },
  {
   "cell_type": "code",
   "execution_count": 23,
   "id": "231d315a-642b-44d6-82d0-cb73fc100733",
   "metadata": {},
   "outputs": [],
   "source": [
    "d_list = sorted(d_list, reverse=True)"
   ]
  },
  {
   "cell_type": "markdown",
   "id": "b1637f84-d2ba-401f-afa7-a5c669baa30f",
   "metadata": {},
   "source": [
    "## Function that finds the occurrence of any word"
   ]
  },
  {
   "cell_type": "code",
   "execution_count": 25,
   "id": "ac036e70-73ec-4b44-a7a5-96e222f3efe8",
   "metadata": {},
   "outputs": [],
   "source": [
    "def find(w):\n",
    "    pattern = re.compile(\"[a-zA-Z]+\")\n",
    "    findings = re.findall(pattern, book.lower())\n",
    "\n",
    "    d = {}\n",
    "    for word in findings:\n",
    "        if word in d.keys():\n",
    "            d[word] = d[word] + 1\n",
    "        else:\n",
    "            d[word] = 1\n",
    "\n",
    "    try:\n",
    "        return d[w]\n",
    "    except:\n",
    "        return f'The book does not contain the word \"{w}\"'"
   ]
  },
  {
   "cell_type": "markdown",
   "id": "9604620b-a6ba-491c-ad89-7a5c81f49b4c",
   "metadata": {},
   "source": [
    "## Call the function"
   ]
  },
  {
   "cell_type": "code",
   "execution_count": 27,
   "id": "dff5304d-428d-40bc-b1c3-175ffe28eb62",
   "metadata": {},
   "outputs": [
    {
     "data": {
      "text/plain": [
       "83"
      ]
     },
     "execution_count": 27,
     "metadata": {},
     "output_type": "execute_result"
    }
   ],
   "source": [
    "find('love')"
   ]
  },
  {
   "cell_type": "code",
   "execution_count": 28,
   "id": "dd641278-402a-4d56-8e9f-5710cab1cc3d",
   "metadata": {},
   "outputs": [
    {
     "data": {
      "text/plain": [
       "'The book does not contain the word \"hate\"'"
      ]
     },
     "execution_count": 28,
     "metadata": {},
     "output_type": "execute_result"
    }
   ],
   "source": [
    "find('hate')"
   ]
  },
  {
   "cell_type": "markdown",
   "id": "666c2341-726c-4be5-b692-61b3dfe03329",
   "metadata": {},
   "source": [
    "## The most use words (non-articles)"
   ]
  },
  {
   "cell_type": "code",
   "execution_count": 30,
   "id": "78bb53f2-5445-492d-a4f5-4799a557f65a",
   "metadata": {},
   "outputs": [
    {
     "data": {
      "text/plain": [
       "'3.12.4'"
      ]
     },
     "execution_count": 30,
     "metadata": {},
     "output_type": "execute_result"
    }
   ],
   "source": [
    "from platform import python_version\n",
    "python_version()"
   ]
  },
  {
   "cell_type": "code",
   "execution_count": 31,
   "id": "166cefc4-4e09-4e1e-b42a-1a0eb8c4b473",
   "metadata": {},
   "outputs": [],
   "source": [
    "import nltk\n",
    "\n",
    "from nltk.corpus import stopwords\n",
    "english_stopwords = stopwords.words(\"english\")"
   ]
  },
  {
   "cell_type": "code",
   "execution_count": 32,
   "id": "ed57c349-ffce-4595-9832-0e3bbfcdc1d5",
   "metadata": {},
   "outputs": [],
   "source": [
    "# english_stopwords"
   ]
  },
  {
   "cell_type": "code",
   "execution_count": 33,
   "id": "eed8658e-5fd8-45a4-aa4c-22d90c5c7b63",
   "metadata": {},
   "outputs": [],
   "source": [
    "filtered_words = []\n",
    "for count, word in d_list:\n",
    "    if word not in english_stopwords:\n",
    "        filtered_words.append((word, count))"
   ]
  },
  {
   "cell_type": "code",
   "execution_count": 59,
   "id": "4eec8a09-5d1c-4f31-a111-967f915feb5e",
   "metadata": {},
   "outputs": [
    {
     "data": {
      "text/plain": [
       "[('would', 575),\n",
       " ('us', 519),\n",
       " ('said', 292),\n",
       " ('roberto', 284),\n",
       " ('could', 252),\n",
       " ('one', 249),\n",
       " ('snow', 227),\n",
       " ('mountain', 183),\n",
       " ('time', 182),\n",
       " ('like', 165)]"
      ]
     },
     "execution_count": 59,
     "metadata": {},
     "output_type": "execute_result"
    }
   ],
   "source": [
    "filtered_words[:10]"
   ]
  },
  {
   "cell_type": "code",
   "execution_count": null,
   "id": "6ed0ee9a-ca53-46e8-bf51-ec6b9448212f",
   "metadata": {},
   "outputs": [],
   "source": []
  }
 ],
 "metadata": {
  "kernelspec": {
   "display_name": "Python 3 (ipykernel)",
   "language": "python",
   "name": "python3"
  },
  "language_info": {
   "codemirror_mode": {
    "name": "ipython",
    "version": 3
   },
   "file_extension": ".py",
   "mimetype": "text/x-python",
   "name": "python",
   "nbconvert_exporter": "python",
   "pygments_lexer": "ipython3",
   "version": "3.12.4"
  }
 },
 "nbformat": 4,
 "nbformat_minor": 5
}
