{
 "cells": [
  {
   "cell_type": "markdown",
   "id": "00f0f05a-ba08-4680-a3c8-12a5aa1e6297",
   "metadata": {},
   "source": []
  },
  {
   "cell_type": "markdown",
   "id": "156692b0-86e8-4952-b8af-70d944684145",
   "metadata": {},
   "source": [
    "# Use of regular expressions to extract the following information\n"
   ]
  },
  {
   "cell_type": "markdown",
   "id": "d33042ac-f1ed-4eac-803b-ba2a8cf56157",
   "metadata": {},
   "source": []
  },
  {
   "cell_type": "markdown",
   "id": "829d1e2c-cb86-40ac-a095-351ae83024d7",
   "metadata": {},
   "source": [
    "#### Load the book"
   ]
  },
  {
   "cell_type": "code",
   "execution_count": 3,
   "id": "80c797ca-f884-406c-b945-9114b68627e9",
   "metadata": {},
   "outputs": [],
   "source": [
    "with open(\"miracle_in_the_andes.txt\", \"r\", encoding=\"utf-8\") as file:\n",
    "    book = file.read()"
   ]
  },
  {
   "cell_type": "code",
   "execution_count": 4,
   "id": "75246eab-8511-44f3-b0aa-042c5b105e51",
   "metadata": {},
   "outputs": [
    {
     "data": {
      "text/plain": [
       "str"
      ]
     },
     "execution_count": 4,
     "metadata": {},
     "output_type": "execute_result"
    }
   ],
   "source": [
    "type(book)"
   ]
  },
  {
   "cell_type": "markdown",
   "id": "c0833b98-2589-4236-a1e6-af7c76552e15",
   "metadata": {},
   "source": [
    "## The number of chapters in the book\n",
    "#### With string methods"
   ]
  },
  {
   "cell_type": "code",
   "execution_count": 6,
   "id": "4a2b6fc9-4018-4f02-91ec-dafb9b1d8fef",
   "metadata": {},
   "outputs": [
    {
     "data": {
      "text/plain": [
       "11"
      ]
     },
     "execution_count": 6,
     "metadata": {},
     "output_type": "execute_result"
    }
   ],
   "source": [
    "book.count(\"Chapter\")"
   ]
  },
  {
   "cell_type": "markdown",
   "id": "1e9192ae-e103-40fb-acf1-a1d740ba52e9",
   "metadata": {},
   "source": [
    "#### With regex"
   ]
  },
  {
   "cell_type": "code",
   "execution_count": 7,
   "id": "07f44c54-35ef-44ed-aef8-f2f39f65945e",
   "metadata": {},
   "outputs": [],
   "source": [
    "import re"
   ]
  },
  {
   "cell_type": "code",
   "execution_count": 8,
   "id": "ce7e80d4-7b22-4fba-91c4-a1ebc616d388",
   "metadata": {},
   "outputs": [
    {
     "data": {
      "text/plain": [
       "10"
      ]
     },
     "execution_count": 8,
     "metadata": {},
     "output_type": "execute_result"
    }
   ],
   "source": [
    "# pattern = re.compile(\"Chapter [0-9]\")\n",
    "\n",
    "pattern = re.compile(\"Chapter [0-9]+\")\n",
    "findings = re.findall(pattern, book)\n",
    "# findings\n",
    "len(findings)"
   ]
  },
  {
   "cell_type": "markdown",
   "id": "75b35339-c8d5-4d30-9296-9931142596ca",
   "metadata": {},
   "source": []
  },
  {
   "cell_type": "markdown",
   "id": "fb7490a5-195d-4a74-bf7c-5dcd82f531b6",
   "metadata": {},
   "source": [
    "## Sentences where \"love\" was used in the book"
   ]
  },
  {
   "cell_type": "code",
   "execution_count": 23,
   "id": "d67005c2-02a4-41e3-a7f3-aeeecd3752e2",
   "metadata": {},
   "outputs": [
    {
     "data": {
      "text/plain": [
       "67"
      ]
     },
     "execution_count": 23,
     "metadata": {},
     "output_type": "execute_result"
    }
   ],
   "source": [
    "# pattern = re.compile(\"[a-zA-Z]* love [a-zA-Z]*\")\n",
    "\n",
    "# pattern = re.compile(\"[a-zA-Z ]* love [a-zA-Z ]*\")\n",
    "\n",
    "# pattern = re.compile(\"[^.]* love [^.]*\")\n",
    "\n",
    "# pattern = re.compile(\"[^.]* love [^.]*.\")\n",
    "\n",
    "# pattern = re.compile(\"[^.]*[^a-z]love[^a-z][^.]*.\")\n",
    "\n",
    "pattern = re.compile(\"[A-Z][^.]*[^a-z]love[^a-z][^.]*.\")\n",
    "findings = re.findall(pattern, book)\n",
    "len(findings)\n",
    "# findings"
   ]
  },
  {
   "cell_type": "markdown",
   "id": "29230e52-9d0f-4043-aeaa-f295887de971",
   "metadata": {},
   "source": []
  },
  {
   "cell_type": "markdown",
   "id": "abfd6cfe-d899-44f9-885c-0fd8a2c862e4",
   "metadata": {},
   "source": [
    "## Paragraphs where \"love\" was used in the book"
   ]
  },
  {
   "cell_type": "code",
   "execution_count": 87,
   "id": "aac8bf6a-c45c-44a6-8724-c145407f3fe6",
   "metadata": {},
   "outputs": [
    {
     "data": {
      "text/plain": [
       "60"
      ]
     },
     "execution_count": 87,
     "metadata": {},
     "output_type": "execute_result"
    }
   ],
   "source": [
    "pattern = re.compile(\"[^\\n]+love[^\\n]+\")\n",
    "findings = re.findall(pattern, book)\n",
    "# findings\n",
    "len(findings)"
   ]
  },
  {
   "cell_type": "markdown",
   "id": "68f528b1-0af9-480c-b7f7-92b9816a0585",
   "metadata": {},
   "source": []
  },
  {
   "cell_type": "markdown",
   "id": "6b060d5b-e213-464a-bcfa-128db1597f35",
   "metadata": {},
   "source": [
    "## Chapter titles\n",
    "#### Method 1"
   ]
  },
  {
   "cell_type": "code",
   "execution_count": 100,
   "id": "c3ebc101-e978-414f-8020-cfe663571684",
   "metadata": {},
   "outputs": [
    {
     "data": {
      "text/plain": [
       "['Before',\n",
       " 'Everything Precious',\n",
       " 'A Promise',\n",
       " 'Breathe Once More',\n",
       " 'Abandoned',\n",
       " 'Tomb',\n",
       " 'East',\n",
       " 'The Opposite of Death',\n",
       " 'I See a Man',\n",
       " 'After']"
      ]
     },
     "execution_count": 100,
     "metadata": {},
     "output_type": "execute_result"
    }
   ],
   "source": [
    "pattern = re.compile(\"[a-zA-Z ,]+\\n\\n\")\n",
    "findings = re.findall(pattern, book)\n",
    "findings = [item.strip(\"\\n\\n\") for item in findings]\n",
    "findings"
   ]
  },
  {
   "cell_type": "markdown",
   "id": "57482c33-e1d9-4e86-9b1a-e7ce8b7b079d",
   "metadata": {},
   "source": [
    "#### Method 2"
   ]
  },
  {
   "cell_type": "code",
   "execution_count": 98,
   "id": "7a43ac86-da89-4a18-ac79-d178b4e3e854",
   "metadata": {},
   "outputs": [
    {
     "data": {
      "text/plain": [
       "['Before',\n",
       " 'Everything Precious',\n",
       " 'A Promise',\n",
       " 'Breathe Once More',\n",
       " 'Abandoned',\n",
       " 'Tomb',\n",
       " 'East',\n",
       " 'The Opposite of Death',\n",
       " 'I See a Man',\n",
       " 'After']"
      ]
     },
     "execution_count": 98,
     "metadata": {},
     "output_type": "execute_result"
    }
   ],
   "source": [
    "pattern = re.compile(\"([a-zA-Z ]+)\\n\\n\")\n",
    "findings = re.findall(pattern, book)\n",
    "findings"
   ]
  },
  {
   "cell_type": "markdown",
   "id": "2abc4992-a6ab-434c-a905-02646611880d",
   "metadata": {},
   "source": []
  },
  {
   "cell_type": "markdown",
   "id": "c2c603ce-cf00-4ac4-b11f-07d70d553de7",
   "metadata": {},
   "source": [
    "## The most used word in the book"
   ]
  },
  {
   "cell_type": "code",
   "execution_count": 128,
   "id": "ab40a5e1-d255-4078-bb26-67521305a7f3",
   "metadata": {},
   "outputs": [
    {
     "data": {
      "text/plain": [
       "['chapter', 'before', 'it', 'was', 'friday']"
      ]
     },
     "execution_count": 128,
     "metadata": {},
     "output_type": "execute_result"
    }
   ],
   "source": [
    "# book.split()\n",
    "\n",
    "# pattern = re.compile(\"[a-zA-Z]\")\n",
    "\n",
    "# findings = re.findall(pattern, book) # words starting with capital and lower letter will be counted as different letters\n",
    "\n",
    "pattern = re.compile(\"[a-zA-Z]+\")\n",
    "findings = re.findall(pattern, book.lower())\n",
    "# len(findings)\n",
    "findings[:5]"
   ]
  },
  {
   "cell_type": "code",
   "execution_count": 130,
   "id": "a99bad24-bda8-437b-a762-281d04dea59b",
   "metadata": {},
   "outputs": [],
   "source": [
    "d = {}\n",
    "for word in findings:\n",
    "    if word in d.keys():\n",
    "        d[word] = d[word] + 1\n",
    "    else:\n",
    "        d[word] = 1"
   ]
  },
  {
   "cell_type": "code",
   "execution_count": 132,
   "id": "ebb93477-154e-446a-8cdf-2464ac5f0961",
   "metadata": {},
   "outputs": [],
   "source": [
    "d_list = [(value, key) for (key, value) in d.items()]"
   ]
  },
  {
   "cell_type": "code",
   "execution_count": 138,
   "id": "231d315a-642b-44d6-82d0-cb73fc100733",
   "metadata": {},
   "outputs": [
    {
     "data": {
      "text/plain": [
       "[(5346, 'the'),\n",
       " (2060, 'of'),\n",
       " (1430, 'was'),\n",
       " (1226, 'we'),\n",
       " (800, 'it'),\n",
       " (93, 'before'),\n",
       " (11, 'chapter'),\n",
       " (8, 'october'),\n",
       " (1, 'thirteenth'),\n",
       " (1, 'friday')]"
      ]
     },
     "execution_count": 138,
     "metadata": {},
     "output_type": "execute_result"
    }
   ],
   "source": [
    "sorted(d_list[:10], reverse=True)"
   ]
  },
  {
   "cell_type": "markdown",
   "id": "92c5a3cb-6c54-43a8-bd32-e143e12f8cd0",
   "metadata": {},
   "source": []
  },
  {
   "cell_type": "markdown",
   "id": "b1637f84-d2ba-401f-afa7-a5c669baa30f",
   "metadata": {},
   "source": [
    "## Function that finds the occurrence of any word"
   ]
  },
  {
   "cell_type": "code",
   "execution_count": 162,
   "id": "ac036e70-73ec-4b44-a7a5-96e222f3efe8",
   "metadata": {},
   "outputs": [],
   "source": [
    "def find(w):\n",
    "    pattern = re.compile(\"[a-zA-Z]+\")\n",
    "    findings = re.findall(pattern, book.lower())\n",
    "\n",
    "    d = {}\n",
    "    for word in findings:\n",
    "        if word in d.keys():\n",
    "            d[word] = d[word] + 1\n",
    "        else:\n",
    "            d[word] = 1\n",
    "\n",
    "    try:\n",
    "        return d[w]\n",
    "    except:\n",
    "        return f'The book does not contain the word \"{w}\"'"
   ]
  },
  {
   "cell_type": "markdown",
   "id": "42164225-8982-4c2b-bf2a-430bcba83f03",
   "metadata": {},
   "source": []
  },
  {
   "cell_type": "markdown",
   "id": "9604620b-a6ba-491c-ad89-7a5c81f49b4c",
   "metadata": {},
   "source": [
    "## Call the function"
   ]
  },
  {
   "cell_type": "code",
   "execution_count": 160,
   "id": "dff5304d-428d-40bc-b1c3-175ffe28eb62",
   "metadata": {},
   "outputs": [
    {
     "data": {
      "text/plain": [
       "83"
      ]
     },
     "execution_count": 160,
     "metadata": {},
     "output_type": "execute_result"
    }
   ],
   "source": [
    "find('love')"
   ]
  },
  {
   "cell_type": "code",
   "execution_count": 164,
   "id": "dd641278-402a-4d56-8e9f-5710cab1cc3d",
   "metadata": {},
   "outputs": [
    {
     "data": {
      "text/plain": [
       "'The book does not contain the word \"hate\"'"
      ]
     },
     "execution_count": 164,
     "metadata": {},
     "output_type": "execute_result"
    }
   ],
   "source": [
    "find('hate')"
   ]
  },
  {
   "cell_type": "code",
   "execution_count": null,
   "id": "b7c165ea-f1a8-4ddf-9b91-4d6b085b31b8",
   "metadata": {},
   "outputs": [],
   "source": []
  }
 ],
 "metadata": {
  "kernelspec": {
   "display_name": "Python 3 (ipykernel)",
   "language": "python",
   "name": "python3"
  },
  "language_info": {
   "codemirror_mode": {
    "name": "ipython",
    "version": 3
   },
   "file_extension": ".py",
   "mimetype": "text/x-python",
   "name": "python",
   "nbconvert_exporter": "python",
   "pygments_lexer": "ipython3",
   "version": "3.12.4"
  }
 },
 "nbformat": 4,
 "nbformat_minor": 5
}
